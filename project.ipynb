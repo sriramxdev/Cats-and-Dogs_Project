{
  "nbformat": 4,
  "nbformat_minor": 0,
  "metadata": {
    "colab": {
      "provenance": [],
      "authorship_tag": "ABX9TyOR9iPoNopE3NcIIhnS+6TU",
      "include_colab_link": true
    },
    "kernelspec": {
      "name": "python3",
      "display_name": "Python 3"
    },
    "language_info": {
      "name": "python"
    }
  },
  "cells": [
    {
      "cell_type": "markdown",
      "metadata": {
        "id": "view-in-github",
        "colab_type": "text"
      },
      "source": [
        "<a href=\"https://colab.research.google.com/github/sriramxdev/Cats-and-Dogs_Project/blob/main/project.ipynb\" target=\"_parent\"><img src=\"https://colab.research.google.com/assets/colab-badge.svg\" alt=\"Open In Colab\"/></a>"
      ]
    },
    {
      "cell_type": "markdown",
      "source": [
        "# Cats and Dogs Image Classification"
      ],
      "metadata": {
        "id": "aiwT-n8g3NOY"
      }
    },
    {
      "cell_type": "code",
      "source": [
        "import os\n",
        "from google.colab import drive"
      ],
      "metadata": {
        "id": "r6kr1ulL3UE7"
      },
      "execution_count": 3,
      "outputs": []
    },
    {
      "cell_type": "code",
      "source": [
        "#Mount Google Drive\n",
        "drive.mount('/content/drive')\n",
        "\n",
        "#Create project directory\n",
        "project_dir = '/content/cats_dogs_classification'\n",
        "os.makedirs(project_dir, exist_ok=True)\n",
        "\n",
        "#Change to project directory\n",
        "os.chdir(project_dir)\n",
        "print(f'Current working directory: {os.getcwd()}')"
      ],
      "metadata": {
        "colab": {
          "base_uri": "https://localhost:8080/"
        },
        "id": "wnorvaPw3XMN",
        "outputId": "31b56d65-7b0e-44e6-a7dc-47bfb9347adc"
      },
      "execution_count": 4,
      "outputs": [
        {
          "output_type": "stream",
          "name": "stdout",
          "text": [
            "Mounted at /content/drive\n",
            "Current working directory: /content/cats_dogs_classification\n"
          ]
        }
      ]
    },
    {
      "cell_type": "code",
      "source": [],
      "metadata": {
        "id": "FmIom9be3uRr"
      },
      "execution_count": null,
      "outputs": []
    }
  ]
}