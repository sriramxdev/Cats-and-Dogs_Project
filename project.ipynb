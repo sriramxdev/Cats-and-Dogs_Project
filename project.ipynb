{
  "nbformat": 4,
  "nbformat_minor": 0,
  "metadata": {
    "colab": {
      "provenance": [],
      "authorship_tag": "ABX9TyPMrlYnYTtqYKkgIJTOaQmI"
    },
    "kernelspec": {
      "name": "python3",
      "display_name": "Python 3"
    },
    "language_info": {
      "name": "python"
    }
  },
  "cells": [
    {
      "cell_type": "markdown",
      "source": [
        "# Cats and Dogs Image Classification via CNN"
      ],
      "metadata": {
        "id": "tOfNYOkJ09i-"
      }
    },
    {
      "cell_type": "code",
      "source": [
        "import os\n",
        "import zipfile\n",
        "import requests\n",
        "from google.colab import drive"
      ],
      "metadata": {
        "id": "fUjAUfHy1IEb"
      },
      "execution_count": null,
      "outputs": []
    },
    {
      "cell_type": "code",
      "source": [
        "# Mount Google Drive\n",
        "drive.mount('/content/drive')\n",
        "\n",
        "# Create project directory\n",
        "project_dir = '/content/cats_dogs_classification'\n",
        "os.makedirs(project_dir, exist_ok=True)\n",
        "os.chdir(project_dir)\n",
        "\n",
        "#Change to Project Directory\n",
        "print(f\"Current Working directory: {os.getcwd()}\")"
      ],
      "metadata": {
        "id": "Uzn1SQyl1Se-"
      },
      "execution_count": null,
      "outputs": []
    },
    {
      "cell_type": "code",
      "source": [
        "# Download Cats vs Dogs Dataset\n",
        "dataset_url = \"https://download.microsoft.com/download/3/E/1/3E1C3F21-ECDB-4869-8368-6DEBA77B919F/kagglecatsanddogs_5340.zip\"\n",
        "\n",
        "def download_dataset():\n",
        "    if not os.path.exists('PetImages'):\n",
        "        print(\"Downloading cats vs dogs dataset...\")\n",
        "        response = requests.get(dataset_url)\n",
        "        with open('dataset.zip', 'wb') as f:\n",
        "            f.write(response.content)\n",
        "\n",
        "        print(\"Extracting dataset...\")\n",
        "        with zipfile.ZipFile('dataset.zip', 'r') as zip_ref:\n",
        "            zip_ref.extractall('.')\n",
        "\n",
        "        os.remove('dataset.zip')\n",
        "        print(\"Dataset downloaded and extracted successfully!\")\n",
        "    else:\n",
        "        print(\"Dataset already exists!\")\n",
        "\n",
        "download_dataset()"
      ],
      "metadata": {
        "id": "8rkMFNhh1X5C"
      },
      "execution_count": null,
      "outputs": []
    }
  ]
}