{
  "nbformat": 4,
  "nbformat_minor": 0,
  "metadata": {
    "colab": {
      "provenance": [],
      "authorship_tag": "ABX9TyOp+BsAfOwywa5yyYXBajqJ",
      "include_colab_link": true
    },
    "kernelspec": {
      "name": "python3",
      "display_name": "Python 3"
    },
    "language_info": {
      "name": "python"
    }
  },
  "cells": [
    {
      "cell_type": "markdown",
      "metadata": {
        "id": "view-in-github",
        "colab_type": "text"
      },
      "source": [
        "<a href=\"https://colab.research.google.com/github/sriramxdev/Cats-and-Dogs_Project/blob/main/main_project.ipynb\" target=\"_parent\"><img src=\"https://colab.research.google.com/assets/colab-badge.svg\" alt=\"Open In Colab\"/></a>"
      ]
    },
    {
      "cell_type": "markdown",
      "source": [],
      "metadata": {
        "id": "WpNil-ZpDyH0"
      }
    },
    {
      "cell_type": "code",
      "source": [
        "# Import Required Libraries\n",
        "import tensorflow as tf\n",
        "from tensorflow import keras\n",
        "from keras import Sequential\n",
        "from tensorflow.keras import layers"
      ],
      "metadata": {
        "id": "eRJSgFwiDyq2"
      },
      "execution_count": 2,
      "outputs": []
    },
    {
      "cell_type": "code",
      "source": [
        "import os\n",
        "import zipfile\n",
        "import requests\n",
        "import cv2\n",
        "from google.colab import drive\n",
        "\n",
        "print(f\"TensorFlow version: {tf.__version__}\")\n",
        "print(f\"GPU Available: {tf.config.list_physical_devices('GPU')}\")"
      ],
      "metadata": {
        "colab": {
          "base_uri": "https://localhost:8080/"
        },
        "id": "XFPEBJo_D3NZ",
        "outputId": "fcd36ba9-582b-43bc-d028-f863a42eb8d2"
      },
      "execution_count": 3,
      "outputs": [
        {
          "output_type": "stream",
          "name": "stdout",
          "text": [
            "TensorFlow version: 2.18.0\n",
            "GPU Available: []\n"
          ]
        }
      ]
    },
    {
      "cell_type": "code",
      "source": [
        "# Mount Google Drive\n",
        "drive.mount('/content/drive')\n",
        "\n",
        "# Create project directory\n",
        "project_dir = '/content/cats_dogs_classification'\n",
        "os.makedirs(project_dir, exist_ok=True)\n",
        "os.chdir(project_dir)\n",
        "\n",
        "print(f\"Working directory: {os.getcwd()}\")"
      ],
      "metadata": {
        "colab": {
          "base_uri": "https://localhost:8080/"
        },
        "id": "VAMy_RngEEX_",
        "outputId": "46c4a79f-cb20-4e11-8b28-6cdaaa0715d8"
      },
      "execution_count": null,
      "outputs": [
        {
          "output_type": "stream",
          "name": "stdout",
          "text": [
            "Mounted at /content/drive\n",
            "Working directory: /content/cats_dogs_classification\n"
          ]
        }
      ]
    },
    {
      "cell_type": "code",
      "source": [
        "# Download Cats vs Dogs Dataset\n",
        "dataset_url = \"https://download.microsoft.com/download/3/E/1/3E1C3F21-ECDB-4869-8368-6DEBA77B919F/kagglecatsanddogs_5340.zip\"\n",
        "\n",
        "def download_dataset():\n",
        "    if not os.path.exists('PetImages'):\n",
        "        print(\"Downloading cats vs dogs dataset...\")\n",
        "        response = requests.get(dataset_url)\n",
        "        with open('dataset.zip', 'wb') as f:\n",
        "            f.write(response.content)\n",
        "\n",
        "        print(\"Extracting dataset...\")\n",
        "        with zipfile.ZipFile('dataset.zip', 'r') as zip_ref:\n",
        "            zip_ref.extractall('.')\n",
        "\n",
        "        os.remove('dataset.zip')\n",
        "        print(\"Dataset downloaded and extracted successfully!\")\n",
        "    else:\n",
        "        print(\"Dataset already exists!\")\n",
        "\n",
        "download_dataset()"
      ],
      "metadata": {
        "colab": {
          "base_uri": "https://localhost:8080/"
        },
        "id": "Baf4ttrnEHq-",
        "outputId": "91d32b82-9bed-4e7d-bfbe-d1e317cbe540"
      },
      "execution_count": null,
      "outputs": [
        {
          "output_type": "stream",
          "name": "stdout",
          "text": [
            "Downloading cats vs dogs dataset...\n",
            "Extracting dataset...\n",
            "Dataset downloaded and extracted successfully!\n"
          ]
        }
      ]
    },
    {
      "cell_type": "code",
      "source": [
        "# Data Preprocessing and Cleaning\n",
        "def clean_dataset():\n",
        "    \"\"\"Remove corrupted images from the dataset\"\"\"\n",
        "    base_dir = 'PetImages'\n",
        "    categories = ['Cat', 'Dog']\n",
        "\n",
        "    for category in categories:\n",
        "        category_path = os.path.join(base_dir, category)\n",
        "        files = os.listdir(category_path)\n",
        "\n",
        "        print(f\"Cleaning {category} images...\")\n",
        "        removed_count = 0\n",
        "\n",
        "        for file in files:\n",
        "            file_path = os.path.join(category_path, file)\n",
        "            try:\n",
        "                # Try to read the image\n",
        "                img = cv2.imread(file_path)\n",
        "                if img is None:\n",
        "                    os.remove(file_path)\n",
        "                    removed_count += 1\n",
        "            except:\n",
        "                os.remove(file_path)\n",
        "                removed_count += 1\n",
        "\n",
        "        remaining_files = len(os.listdir(category_path))\n",
        "        print(f\"{category}: Removed {removed_count} corrupted images, {remaining_files} remaining\")\n",
        "\n",
        "clean_dataset()"
      ],
      "metadata": {
        "colab": {
          "base_uri": "https://localhost:8080/",
          "height": 315
        },
        "id": "G_GqLG3OKiUx",
        "outputId": "0b9d7fbe-897f-4132-cde5-824127393131"
      },
      "execution_count": 1,
      "outputs": [
        {
          "output_type": "error",
          "ename": "NameError",
          "evalue": "name 'os' is not defined",
          "traceback": [
            "\u001b[0;31m---------------------------------------------------------------------------\u001b[0m",
            "\u001b[0;31mNameError\u001b[0m                                 Traceback (most recent call last)",
            "\u001b[0;32m/tmp/ipython-input-323058582.py\u001b[0m in \u001b[0;36m<cell line: 0>\u001b[0;34m()\u001b[0m\n\u001b[1;32m     27\u001b[0m         \u001b[0mprint\u001b[0m\u001b[0;34m(\u001b[0m\u001b[0;34mf\"{category}: Removed {removed_count} corrupted images, {remaining_files} remaining\"\u001b[0m\u001b[0;34m)\u001b[0m\u001b[0;34m\u001b[0m\u001b[0;34m\u001b[0m\u001b[0m\n\u001b[1;32m     28\u001b[0m \u001b[0;34m\u001b[0m\u001b[0m\n\u001b[0;32m---> 29\u001b[0;31m \u001b[0mclean_dataset\u001b[0m\u001b[0;34m(\u001b[0m\u001b[0;34m)\u001b[0m\u001b[0;34m\u001b[0m\u001b[0;34m\u001b[0m\u001b[0m\n\u001b[0m",
            "\u001b[0;32m/tmp/ipython-input-323058582.py\u001b[0m in \u001b[0;36mclean_dataset\u001b[0;34m()\u001b[0m\n\u001b[1;32m      6\u001b[0m \u001b[0;34m\u001b[0m\u001b[0m\n\u001b[1;32m      7\u001b[0m     \u001b[0;32mfor\u001b[0m \u001b[0mcategory\u001b[0m \u001b[0;32min\u001b[0m \u001b[0mcategories\u001b[0m\u001b[0;34m:\u001b[0m\u001b[0;34m\u001b[0m\u001b[0;34m\u001b[0m\u001b[0m\n\u001b[0;32m----> 8\u001b[0;31m         \u001b[0mcategory_path\u001b[0m \u001b[0;34m=\u001b[0m \u001b[0mos\u001b[0m\u001b[0;34m.\u001b[0m\u001b[0mpath\u001b[0m\u001b[0;34m.\u001b[0m\u001b[0mjoin\u001b[0m\u001b[0;34m(\u001b[0m\u001b[0mbase_dir\u001b[0m\u001b[0;34m,\u001b[0m \u001b[0mcategory\u001b[0m\u001b[0;34m)\u001b[0m\u001b[0;34m\u001b[0m\u001b[0;34m\u001b[0m\u001b[0m\n\u001b[0m\u001b[1;32m      9\u001b[0m         \u001b[0mfiles\u001b[0m \u001b[0;34m=\u001b[0m \u001b[0mos\u001b[0m\u001b[0;34m.\u001b[0m\u001b[0mlistdir\u001b[0m\u001b[0;34m(\u001b[0m\u001b[0mcategory_path\u001b[0m\u001b[0;34m)\u001b[0m\u001b[0;34m\u001b[0m\u001b[0;34m\u001b[0m\u001b[0m\n\u001b[1;32m     10\u001b[0m \u001b[0;34m\u001b[0m\u001b[0m\n",
            "\u001b[0;31mNameError\u001b[0m: name 'os' is not defined"
          ]
        }
      ]
    }
  ]
}